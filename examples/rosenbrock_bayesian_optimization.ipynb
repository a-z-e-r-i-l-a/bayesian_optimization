{
 "cells": [
  {
   "cell_type": "markdown",
   "metadata": {},
   "source": [
    "# Bayesian Optimization for Rosenbrock Function"
   ]
  },
  {
   "cell_type": "code",
   "execution_count": null,
   "metadata": {
    "collapsed": false
   },
   "outputs": [],
   "source": [
    "%load_ext autoreload\n",
    "%autoreload 2"
   ]
  },
  {
   "cell_type": "code",
   "execution_count": null,
   "metadata": {
    "collapsed": false
   },
   "outputs": [],
   "source": [
    "import numpy as np\n",
    "from scipy.optimize import rosen\n",
    "\n",
    "from sklearn.gaussian_process import GaussianProcessRegressor\n",
    "from sklearn.gaussian_process.kernels import RBF, ConstantKernel as C"
   ]
  },
  {
   "cell_type": "code",
   "execution_count": null,
   "metadata": {
    "collapsed": false
   },
   "outputs": [],
   "source": [
    "import matplotlib.pyplot as plt\n",
    "%matplotlib inline"
   ]
  },
  {
   "cell_type": "code",
   "execution_count": null,
   "metadata": {
    "collapsed": false
   },
   "outputs": [],
   "source": [
    "import sys\n",
    "sys.path.append(\"..\")\n",
    "from bayesian_optimization import (BayesianOptimizer, GaussianProcessModel,\n",
    "    UpperConfidenceBound)"
   ]
  },
  {
   "cell_type": "markdown",
   "metadata": {},
   "source": [
    "### Target function"
   ]
  },
  {
   "cell_type": "code",
   "execution_count": null,
   "metadata": {
    "collapsed": false
   },
   "outputs": [],
   "source": [
    "# Plot true function\n",
    "xi = np.linspace(0, 2, 100)\n",
    "yi = np.linspace(0, 2, 100)\n",
    "Xi, Yi = np.meshgrid(xi, yi)\n",
    "\n",
    "Zi = np.array([np.log10(rosen([xi_, yi_])) for yi_ in yi for xi_ in xi]).reshape(Xi.shape)\n",
    "CS = plt.contourf(Xi, Yi, Zi)\n",
    "CB = plt.colorbar(CS, shrink=0.8, extend='both')"
   ]
  },
  {
   "cell_type": "markdown",
   "metadata": {},
   "source": [
    "### Gaussian Process"
   ]
  },
  {
   "cell_type": "code",
   "execution_count": null,
   "metadata": {
    "collapsed": false
   },
   "outputs": [],
   "source": [
    "x = np.random.uniform(0, 2, size=(2, 100))\n",
    "y = rosen(x)"
   ]
  },
  {
   "cell_type": "code",
   "execution_count": null,
   "metadata": {
    "collapsed": false
   },
   "outputs": [],
   "source": [
    "kernel = C(100.0, (1.0, 10000.0)) \\\n",
    "    * RBF(l=(1.0, 1.0), l_bounds=[(0.1, 100), (0.1, 100)])\n",
    "\n",
    "gp = GaussianProcessRegressor(kernel=kernel, normalize_y=True)\n",
    "gp.fit(x.T, y)\n",
    "print \"Learned kernel: %s\" % gp.kernel_\n",
    "\n",
    "Zi = np.array([np.log10(gp.predict([xi_, yi_])) for yi_ in yi for xi_ in xi]).reshape(Xi.shape)\n",
    "CS = plt.contourf(Xi, Yi, Zi)\n",
    "CB = plt.colorbar(CS, shrink=0.8, extend='both')\n",
    "\n",
    "# Plot samples\n",
    "plt.plot(x[0], x[1], 'ko')\n",
    "\n",
    "plt.xlim(0, 2)\n",
    "plt.ylim(0, 2)\n",
    "plt.title(\"Learned GP model on %s training datapoints\" % x.shape[1])"
   ]
  },
  {
   "cell_type": "markdown",
   "metadata": {},
   "source": [
    "### Bayesian Optimization"
   ]
  },
  {
   "cell_type": "code",
   "execution_count": null,
   "metadata": {
    "collapsed": false
   },
   "outputs": [],
   "source": [
    "model = GaussianProcessModel(kernel=kernel, normalize_y=True, sigma_squared_n=1e-3)\n",
    "acquisition_function = UpperConfidenceBound(model, kappa=2.5)\n",
    "opt = BayesianOptimizer(model=model, acquisition_function=acquisition_function,\n",
    "                        optimizer=\"direct+lbfgs\", maxf=50)\n",
    "\n",
    "scores = []\n",
    "\n",
    "fig_counter = 0\n",
    "for step in range(50):\n",
    "    if (step + 1) % 10 == 0:\n",
    "        plt.figure(fig_counter, figsize=(12, 5))\n",
    "        fig_counter += 1\n",
    "\n",
    "        # Plot true function\n",
    "        plt.subplot(1, 2, 1)\n",
    "        xi = np.linspace(0, 2, 100)\n",
    "        yi = np.linspace(0, 2, 100)\n",
    "        Xi, Yi = np.meshgrid(xi, yi)\n",
    "\n",
    "        Zi = np.array([np.log10(rosen([xi_, yi_]))\n",
    "                       for yi_ in yi for xi_ in xi]).reshape(Xi.shape)\n",
    "        CS = plt.contourf(Xi, Yi, Zi)\n",
    "        CB = plt.colorbar(CS, shrink=0.8, extend='both')\n",
    "\n",
    "        # Plot samples\n",
    "        thetas = np.array(opt.X_)\n",
    "        plt.plot(thetas[:, 0], thetas[:, 1], 'ko')\n",
    "        plt.plot(thetas[-1:, 0], thetas[-1:, 1], 'ro')\n",
    "\n",
    "        plt.xlim(0, 2)\n",
    "        plt.ylim(0, 2)\n",
    "        plt.title(\"Samples (n = %s)\" % (step + 1))\n",
    "\n",
    "        # Plot GP model\n",
    "        plt.subplot(1, 2, 2)\n",
    "        gp = GaussianProcessRegressor(kernel=kernel, normalize_y=True)\n",
    "        gp.fit(np.vstack(opt.X_), opt.y_)\n",
    "\n",
    "        Zi = np.array([np.log10(-gp.predict([xi_, yi_]))\n",
    "                       for yi_ in yi for xi_ in xi]).reshape(Xi.shape)\n",
    "        CS = plt.contourf(Xi, Yi, Zi)\n",
    "        CB = plt.colorbar(CS, shrink=0.8, extend='both')\n",
    "\n",
    "        # Plot samples\n",
    "        plt.plot(thetas[:, 0], thetas[:, 1], 'ko')\n",
    "        plt.plot(thetas[-1:, 0], thetas[-1:, 1], 'ro')\n",
    "\n",
    "        plt.xlim(0, 2)\n",
    "        plt.ylim(0, 2)\n",
    "        plt.title(\"Internal model (n = %s. kernel=%s)\" % (step + 1, gp.kernel_))\n",
    "\n",
    "    X_query = opt.select_query_point(boundaries=[(0, 2), (0, 2)])\n",
    "    y_query = -rosen(X_query)\n",
    "    opt.update(X_query, y_query)\n",
    "\n",
    "    scores.append(y_query)"
   ]
  },
  {
   "cell_type": "code",
   "execution_count": null,
   "metadata": {
    "collapsed": false
   },
   "outputs": [],
   "source": [
    "plt.plot(np.array(scores))\n",
    "plt.yscale(\"symlog\", linthreshy=1e-10)\n",
    "plt.xlabel(\"Trials\")\n",
    "plt.ylabel(\"Sample cost\")\n",
    "plt.title(\"Learning curve\")"
   ]
  },
  {
   "cell_type": "code",
   "execution_count": null,
   "metadata": {
    "collapsed": true
   },
   "outputs": [],
   "source": []
  }
 ],
 "metadata": {
  "kernelspec": {
   "display_name": "Python 2",
   "language": "python",
   "name": "python2"
  },
  "language_info": {
   "codemirror_mode": {
    "name": "ipython",
    "version": 2
   },
   "file_extension": ".py",
   "mimetype": "text/x-python",
   "name": "python",
   "nbconvert_exporter": "python",
   "pygments_lexer": "ipython2",
   "version": "2.7.10"
  }
 },
 "nbformat": 4,
 "nbformat_minor": 0
}
